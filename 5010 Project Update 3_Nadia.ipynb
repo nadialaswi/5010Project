{
 "cells": [
  {
   "cell_type": "code",
   "execution_count": 2,
   "id": "f4dc39fa",
   "metadata": {},
   "outputs": [],
   "source": [
    "import pandas as pd"
   ]
  },
  {
   "cell_type": "markdown",
   "id": "a0e414c2",
   "metadata": {},
   "source": [
    "# AQI .csv file (daily)"
   ]
  },
  {
   "cell_type": "code",
   "execution_count": 3,
   "id": "8daef29d",
   "metadata": {},
   "outputs": [
    {
     "name": "stdout",
     "output_type": "stream",
     "text": [
      "Index(['State Name', 'county Name', 'State Code', 'County Code', 'Date', 'AQI',\n",
      "       'Category', 'Defining Parameter', 'Defining Site',\n",
      "       'Number of Sites Reporting'],\n",
      "      dtype='object')\n"
     ]
    },
    {
     "data": {
      "text/plain": [
       "0                                 Good\n",
       "46                            Moderate\n",
       "482     Unhealthy for Sensitive Groups\n",
       "1004                         Unhealthy\n",
       "1005                    Very Unhealthy\n",
       "6794                         Hazardous\n",
       "Name: Category, dtype: object"
      ]
     },
     "execution_count": 3,
     "metadata": {},
     "output_type": "execute_result"
    }
   ],
   "source": [
    "df = pd.read_csv('daily_aqi_by_county_2023.csv')\n",
    "print(df.columns)\n",
    "df['State Name'].drop_duplicates() # Checking what values are stored\n",
    "df['Category'].drop_duplicates()\n",
    "# All states plus DC and Mexico included\n",
    "# Note that 2023 files are only updated to around October"
   ]
  },
  {
   "cell_type": "code",
   "execution_count": 4,
   "id": "eb15f8d4",
   "metadata": {},
   "outputs": [
    {
     "data": {
      "text/html": [
       "<div>\n",
       "<style scoped>\n",
       "    .dataframe tbody tr th:only-of-type {\n",
       "        vertical-align: middle;\n",
       "    }\n",
       "\n",
       "    .dataframe tbody tr th {\n",
       "        vertical-align: top;\n",
       "    }\n",
       "\n",
       "    .dataframe thead th {\n",
       "        text-align: right;\n",
       "    }\n",
       "</style>\n",
       "<table border=\"1\" class=\"dataframe\">\n",
       "  <thead>\n",
       "    <tr style=\"text-align: right;\">\n",
       "      <th></th>\n",
       "      <th>State Name</th>\n",
       "      <th>county Name</th>\n",
       "      <th>State Code</th>\n",
       "      <th>County Code</th>\n",
       "      <th>Date</th>\n",
       "      <th>AQI</th>\n",
       "      <th>Category</th>\n",
       "      <th>Defining Parameter</th>\n",
       "      <th>Defining Site</th>\n",
       "      <th>Number of Sites Reporting</th>\n",
       "    </tr>\n",
       "  </thead>\n",
       "  <tbody>\n",
       "    <tr>\n",
       "      <th>0</th>\n",
       "      <td>Alabama</td>\n",
       "      <td>Baldwin</td>\n",
       "      <td>1</td>\n",
       "      <td>3</td>\n",
       "      <td>2023-01-10</td>\n",
       "      <td>35</td>\n",
       "      <td>Good</td>\n",
       "      <td>PM2.5</td>\n",
       "      <td>01-003-0010</td>\n",
       "      <td>1</td>\n",
       "    </tr>\n",
       "    <tr>\n",
       "      <th>1</th>\n",
       "      <td>Alabama</td>\n",
       "      <td>Baldwin</td>\n",
       "      <td>1</td>\n",
       "      <td>3</td>\n",
       "      <td>2023-01-11</td>\n",
       "      <td>28</td>\n",
       "      <td>Good</td>\n",
       "      <td>PM2.5</td>\n",
       "      <td>01-003-0010</td>\n",
       "      <td>1</td>\n",
       "    </tr>\n",
       "    <tr>\n",
       "      <th>2</th>\n",
       "      <td>Alabama</td>\n",
       "      <td>Baldwin</td>\n",
       "      <td>1</td>\n",
       "      <td>3</td>\n",
       "      <td>2023-01-12</td>\n",
       "      <td>23</td>\n",
       "      <td>Good</td>\n",
       "      <td>PM2.5</td>\n",
       "      <td>01-003-0010</td>\n",
       "      <td>1</td>\n",
       "    </tr>\n",
       "    <tr>\n",
       "      <th>3</th>\n",
       "      <td>Alabama</td>\n",
       "      <td>Baldwin</td>\n",
       "      <td>1</td>\n",
       "      <td>3</td>\n",
       "      <td>2023-01-13</td>\n",
       "      <td>18</td>\n",
       "      <td>Good</td>\n",
       "      <td>PM2.5</td>\n",
       "      <td>01-003-0010</td>\n",
       "      <td>1</td>\n",
       "    </tr>\n",
       "    <tr>\n",
       "      <th>4</th>\n",
       "      <td>Alabama</td>\n",
       "      <td>Baldwin</td>\n",
       "      <td>1</td>\n",
       "      <td>3</td>\n",
       "      <td>2023-01-14</td>\n",
       "      <td>20</td>\n",
       "      <td>Good</td>\n",
       "      <td>PM2.5</td>\n",
       "      <td>01-003-0010</td>\n",
       "      <td>1</td>\n",
       "    </tr>\n",
       "  </tbody>\n",
       "</table>\n",
       "</div>"
      ],
      "text/plain": [
       "  State Name county Name  State Code  County Code        Date  AQI Category  \\\n",
       "0    Alabama     Baldwin           1            3  2023-01-10   35     Good   \n",
       "1    Alabama     Baldwin           1            3  2023-01-11   28     Good   \n",
       "2    Alabama     Baldwin           1            3  2023-01-12   23     Good   \n",
       "3    Alabama     Baldwin           1            3  2023-01-13   18     Good   \n",
       "4    Alabama     Baldwin           1            3  2023-01-14   20     Good   \n",
       "\n",
       "  Defining Parameter Defining Site  Number of Sites Reporting  \n",
       "0              PM2.5   01-003-0010                          1  \n",
       "1              PM2.5   01-003-0010                          1  \n",
       "2              PM2.5   01-003-0010                          1  \n",
       "3              PM2.5   01-003-0010                          1  \n",
       "4              PM2.5   01-003-0010                          1  "
      ]
     },
     "execution_count": 4,
     "metadata": {},
     "output_type": "execute_result"
    }
   ],
   "source": [
    "df.head()"
   ]
  },
  {
   "cell_type": "code",
   "execution_count": 44,
   "id": "adeead6d",
   "metadata": {},
   "outputs": [],
   "source": [
    "def aqi_finder(file: str, date: str, state_name: str):\n",
    "    '''\n",
    "    Finds air quality index in an area on a given day\n",
    "    Inputs: .csv file from aqs.epa.gov (str), date as YYYY-MM-DD (str), state name (str)   \n",
    "    Returns: str\n",
    "    '''\n",
    "    df = pd.read_csv(file)\n",
    "    \n",
    "    # Find rows where date and state match\n",
    "    chosen_date = df['Date'] == date\n",
    "    chosen_state = df['State Name'] == state_name\n",
    "    \n",
    "    # If date/state not found\n",
    "    if not chosen_date.any():\n",
    "        return f'Sorry, {date} is not recorded in this file. Note that the latest recorded data is from October of 2023.'\n",
    "    elif not chosen_state.any():\n",
    "        return f'Sorry, {state_name} is not recorded in this file. Check for any typos!'\n",
    "    \n",
    "    # Update dataframe with conditions\n",
    "    df = df[chosen_date & chosen_state]\n",
    "    \n",
    "    # Values of interest:\n",
    "    aqi = df['AQI'].values\n",
    "    aqi_mean = aqi.mean()\n",
    "    \n",
    "    # Determine count of categories recorded in the filtered data\n",
    "    condition = df['Category'].value_counts()\n",
    "    condition_count = \", \".join([f\"{count} {category}\" for category, count in condition.items() if count != 0])\n",
    "        \n",
    "    \n",
    "    number_counties = len(df['county Name'])\n",
    "    \n",
    "    \n",
    "    return f'The AQI in {state_name} on {date} was recorded for {number_counties} {state_name} counties. \\\n",
    "             The average AQI was {aqi_mean:.1f}, so there were {condition_count} counties.'\n",
    "            \n",
    "        \n"
   ]
  },
  {
   "cell_type": "code",
   "execution_count": 45,
   "id": "7042c833",
   "metadata": {},
   "outputs": [
    {
     "data": {
      "text/plain": [
       "'The AQI in Alabama on 2023-01-19 was recorded for 11 Alabama counties.              The average AQI was 29.7, so there were 10 Good, 1 Moderate counties.'"
      ]
     },
     "execution_count": 45,
     "metadata": {},
     "output_type": "execute_result"
    }
   ],
   "source": [
    "file1 = 'daily_aqi_by_county_2023.csv'\n",
    "date1 = '2023-01-19'\n",
    "state1 = 'Alabama'\n",
    "\n",
    "# Test the function\n",
    "aqi_finder(file1, date1, state1)"
   ]
  },
  {
   "cell_type": "code",
   "execution_count": null,
   "id": "ebeee908",
   "metadata": {},
   "outputs": [],
   "source": []
  },
  {
   "cell_type": "markdown",
   "id": "2101b417",
   "metadata": {},
   "source": [
    "# Temperature .csv file (daily)"
   ]
  },
  {
   "cell_type": "code",
   "execution_count": 46,
   "id": "08bb854a",
   "metadata": {},
   "outputs": [
    {
     "name": "stdout",
     "output_type": "stream",
     "text": [
      "Index(['State Code', 'County Code', 'Site Num', 'Parameter Code', 'POC',\n",
      "       'Latitude', 'Longitude', 'Datum', 'Parameter Name', 'Sample Duration',\n",
      "       'Pollutant Standard', 'Date Local', 'Units of Measure', 'Event Type',\n",
      "       'Observation Count', 'Observation Percent', 'Arithmetic Mean',\n",
      "       '1st Max Value', '1st Max Hour', 'AQI', 'Method Code', 'Method Name',\n",
      "       'Local Site Name', 'Address', 'State Name', 'County Name', 'City Name',\n",
      "       'CBSA Name', 'Date of Last Change'],\n",
      "      dtype='object')\n"
     ]
    },
    {
     "data": {
      "text/plain": [
       "0    Degrees Fahrenheit\n",
       "Name: Units of Measure, dtype: object"
      ]
     },
     "execution_count": 46,
     "metadata": {},
     "output_type": "execute_result"
    }
   ],
   "source": [
    "file2 = 'daily_TEMP_2023.csv'\n",
    "df2 = pd.read_csv(file2) \n",
    "print(df2.columns)\n",
    "df2['State Name'].drop_duplicates() # Missing 4 states: Delaware, NY, NJ, Vermont\n",
    "df2['Units of Measure'].drop_duplicates() # All recorded in Farenheit\n",
    "# df2['County Name'].head()"
   ]
  },
  {
   "cell_type": "code",
   "execution_count": 47,
   "id": "bcaa631a",
   "metadata": {},
   "outputs": [],
   "source": [
    "def temp_finder(file: str, date: str, state_name: str):\n",
    "    '''\n",
    "    Finds temperature in an area on a given day\n",
    "    Inputs: .csv file from aqs.epa.gov (str), date as YYYY-MM-DD (str), state name (str)   \n",
    "    Returns: str\n",
    "    '''\n",
    "    df = pd.read_csv(file)\n",
    "    \n",
    "    # Find rows where date and state match\n",
    "    chosen_date = df['Date Local'] == date\n",
    "    chosen_state = df['State Name'] == state_name\n",
    "    \n",
    "    # If date/state not found\n",
    "    if not chosen_date.any():\n",
    "        return f'Sorry, {date} is not recorded in this file. Note that the latest recorded data is from October of 2023.'\n",
    "        return f'Sorry, {state_name} is not recorded in this file. Note that the following have no available date: Delaware, New York, New Jersey, Vermont'\n",
    "    \n",
    "    # Update dataframe with conditions\n",
    "    df = df[chosen_date & chosen_state]\n",
    "    # Values of interest:\n",
    "    temp = df['1st Max Value'].values\n",
    "    temp_mean = temp.mean()\n",
    "    \n",
    "    number_counties = len(df['County Name'])\n",
    "        \n",
    "    return f'The temperature in {state_name} on {date} was recorded for {number_counties} {state_name} counties. \\\n",
    "             The average temperature was {temp_mean:.1f} degrees Farenheit across {number_counties} counties.'\n",
    "            "
   ]
  },
  {
   "cell_type": "code",
   "execution_count": 48,
   "id": "2df10795",
   "metadata": {},
   "outputs": [
    {
     "data": {
      "text/plain": [
       "'The temperature in California on 2023-09-03 was recorded for 1 California counties.              The average temperature was 81.0 degrees Farenheit across 1 counties.'"
      ]
     },
     "execution_count": 48,
     "metadata": {},
     "output_type": "execute_result"
    }
   ],
   "source": [
    "# Test the function\n",
    "temp_finder(file2, '2023-09-03', 'California')"
   ]
  },
  {
   "cell_type": "markdown",
   "id": "3e0abbd8",
   "metadata": {},
   "source": [
    "# Wind .csv file (daily)"
   ]
  },
  {
   "cell_type": "code",
   "execution_count": 49,
   "id": "b529dbac",
   "metadata": {},
   "outputs": [
    {
     "name": "stdout",
     "output_type": "stream",
     "text": [
      "Index(['State Code', 'County Code', 'Site Num', 'Parameter Code', 'POC',\n",
      "       'Latitude', 'Longitude', 'Datum', 'Parameter Name', 'Sample Duration',\n",
      "       'Pollutant Standard', 'Date Local', 'Units of Measure', 'Event Type',\n",
      "       'Observation Count', 'Observation Percent', 'Arithmetic Mean',\n",
      "       '1st Max Value', '1st Max Hour', 'AQI', 'Method Code', 'Method Name',\n",
      "       'Local Site Name', 'Address', 'State Name', 'County Name', 'City Name',\n",
      "       'CBSA Name', 'Date of Last Change'],\n",
      "      dtype='object')\n"
     ]
    },
    {
     "data": {
      "text/plain": [
       "Degrees Compass    104898\n",
       "Knots              103931\n",
       "Name: Units of Measure, dtype: int64"
      ]
     },
     "execution_count": 49,
     "metadata": {},
     "output_type": "execute_result"
    }
   ],
   "source": [
    "file3 = 'daily_WIND_2023.csv'\n",
    "df3 = pd.read_csv(file3) \n",
    "print(df3.columns)\n",
    "df3['State Name'].drop_duplicates() # Missing 4 states: Delaware, NY, NJ, Vermont\n",
    "df3['Units of Measure'].value_counts() # Recorded in both Degrees Compass and Knots\n",
    "# df3['County Name'].head()\n",
    "# df3.head()\n"
   ]
  },
  {
   "cell_type": "code",
   "execution_count": 50,
   "id": "dabd8016",
   "metadata": {},
   "outputs": [],
   "source": [
    "def wind_finder(file: str, date: str, state_name: str):\n",
    "    '''\n",
    "    Finds wind speed in an area on a given day\n",
    "    Inputs: .csv file from aqs.epa.gov (str), date as YYYY-MM-DD (str), state name (str)   \n",
    "    Returns: str\n",
    "    '''\n",
    "    df = pd.read_csv(file)\n",
    "    \n",
    "    # Find rows where date and state match\n",
    "    chosen_date = df['Date Local'] == date\n",
    "    chosen_state = df['State Name'] == state_name\n",
    "    in_knots = df['Units of Measure'] == 'Knots'\n",
    "    \n",
    "    # If date/state not found\n",
    "    if not chosen_date.any():\n",
    "        return f'Sorry, {date} is not recorded in this file. Note that the latest recorded data is from October of 2023.'\n",
    "    elif not chosen_state.any():\n",
    "        return f'Sorry, {state_name} is not recorded in this file. Note that the following have no available date: Delaware, New York, New Jersey, Vermont'\n",
    "    \n",
    "    # Update dataframe with conditions\n",
    "    df = df[chosen_date & chosen_state & in_knots]\n",
    "        \n",
    "    # Values of interest:\n",
    "    wind_max = df['1st Max Value'].values.max() # Maximum speed recorded \n",
    "    wind_mean = df['Arithmetic Mean'].values.mean() # Mean of means\n",
    "    \n",
    "    number_counties = len(df['County Name'])\n",
    "        \n",
    "    return f'The wind speed in {state_name} on {date} was recorded for {number_counties} {state_name} counties. \\\n",
    "             The maximum recorded wind speed in {state_name} was {wind_max} knots. \\\n",
    "             The average of all wind speed averages was {wind_mean:.1f} knots across {number_counties} counties.'\n",
    "            "
   ]
  },
  {
   "cell_type": "code",
   "execution_count": 51,
   "id": "5cb228b4",
   "metadata": {},
   "outputs": [
    {
     "data": {
      "text/plain": [
       "'Sorry, 2023-11-09 is not recorded in this file. Note that the latest recorded data is from October of 2023.'"
      ]
     },
     "execution_count": 51,
     "metadata": {},
     "output_type": "execute_result"
    }
   ],
   "source": [
    "# Test the function\n",
    "wind_finder(file3, '2023-11-09', 'Florida')"
   ]
  },
  {
   "cell_type": "code",
   "execution_count": null,
   "id": "8cc5f30a",
   "metadata": {},
   "outputs": [],
   "source": []
  },
  {
   "cell_type": "code",
   "execution_count": null,
   "id": "1f624b80",
   "metadata": {},
   "outputs": [],
   "source": []
  },
  {
   "cell_type": "code",
   "execution_count": null,
   "id": "d1baff14",
   "metadata": {},
   "outputs": [],
   "source": []
  }
 ],
 "metadata": {
  "kernelspec": {
   "display_name": "Python 3",
   "language": "python",
   "name": "python3"
  },
  "language_info": {
   "codemirror_mode": {
    "name": "ipython",
    "version": 3
   },
   "file_extension": ".py",
   "mimetype": "text/x-python",
   "name": "python",
   "nbconvert_exporter": "python",
   "pygments_lexer": "ipython3",
   "version": "3.8.8"
  }
 },
 "nbformat": 4,
 "nbformat_minor": 5
}
